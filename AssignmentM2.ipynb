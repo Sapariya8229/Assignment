{
  "nbformat": 4,
  "nbformat_minor": 0,
  "metadata": {
    "colab": {
      "provenance": []
    },
    "kernelspec": {
      "name": "python3",
      "display_name": "Python 3"
    },
    "language_info": {
      "name": "python"
    }
  },
  "cells": [
    {
      "cell_type": "code",
      "execution_count": null,
      "metadata": {
        "colab": {
          "base_uri": "https://localhost:8080/"
        },
        "id": "tTR8b2DRcqFb",
        "outputId": "26f740eb-4d34-42cc-e6e0-6f2552299482"
      },
      "outputs": [
        {
          "output_type": "stream",
          "name": "stdout",
          "text": [
            "Enter the number: 9\n",
            "Number is positive\n"
          ]
        }
      ],
      "source": [
        "#M2-1\n",
        "x = int(input(\"Enter the number: \"))\n",
        "if(x>0):\n",
        "    print(\"Number is positive\")\n",
        "elif(x<0):\n",
        "    print(\"Number is negative\")\n",
        "else:\n",
        "    print(\"Number is zero\")"
      ]
    },
    {
      "cell_type": "code",
      "source": [
        "#M2-2\n",
        "num = int(input(\"Enter the number: \"))\n",
        "factorial = 1\n",
        "if(num<0):\n",
        "    print(\"Factorial does not exit for negative numbers\")\n",
        "elif(num==0):\n",
        "    print(\"The factorial of 0 is 1\")\n",
        "else:\n",
        "    for i in range(1,num+1):\n",
        "        factorial = factorial*i\n",
        "    print(\"The factorial of number is:\",factorial)"
      ],
      "metadata": {
        "colab": {
          "base_uri": "https://localhost:8080/"
        },
        "id": "ZXrZueoUeDUB",
        "outputId": "136f8f3e-a0e7-4cda-9ada-a2506d0f08f5"
      },
      "execution_count": null,
      "outputs": [
        {
          "output_type": "stream",
          "name": "stdout",
          "text": [
            "Enter the number: 7\n",
            "The factorial of number is: 5040\n"
          ]
        }
      ]
    },
    {
      "cell_type": "code",
      "source": [
        "#M2-3\n",
        "n1 = 0\n",
        "n2 = 1\n",
        "n3 = 1\n",
        "print(n1)\n",
        "print(n2)\n",
        "while(n3<1000):\n",
        "    n3 = n1+n2\n",
        "    print(n3)\n",
        "    n1 = n2\n",
        "    n2 = n3"
      ],
      "metadata": {
        "colab": {
          "base_uri": "https://localhost:8080/"
        },
        "id": "wJE7KwydeQqS",
        "outputId": "e4c874b4-2e94-4818-db4e-e20b54040107"
      },
      "execution_count": null,
      "outputs": [
        {
          "output_type": "stream",
          "name": "stdout",
          "text": [
            "0\n",
            "1\n",
            "1\n",
            "2\n",
            "3\n",
            "5\n",
            "8\n",
            "13\n",
            "21\n",
            "34\n",
            "55\n",
            "89\n",
            "144\n",
            "233\n",
            "377\n",
            "610\n",
            "987\n",
            "1597\n"
          ]
        }
      ]
    },
    {
      "cell_type": "markdown",
      "source": [
        "#M2-4\n",
        "\n",
        "How memory is managed in Python?\n",
        "- The python memory is primarily managed by python private heap space, all python objects and data structures are located in a private heap.\n",
        "- The programmer does not have access to this private heap and interpreter take care of this python private heap."
      ],
      "metadata": {
        "id": "Uy9nMrrceltc"
      }
    },
    {
      "cell_type": "markdown",
      "source": [
        "#M2-5\n",
        "\n",
        "What is the purpose continue statement in python?\n",
        "- The continue statement passes control to the next iteration of the nearest enclosing do, for, or while statement in which is appears, by passing and remaining statement in the do, for, or while statement body."
      ],
      "metadata": {
        "id": "WIjTNSNefm4k"
      }
    },
    {
      "cell_type": "code",
      "source": [
        "#M2-6\n",
        "x = int(input(\"Enter the number of x: \"))\n",
        "y = int(input(\"Enter the number of y: \"))\n",
        "x,y = y,x\n",
        "print(\"x = \",x)\n",
        "print(\"y = \",y)"
      ],
      "metadata": {
        "colab": {
          "base_uri": "https://localhost:8080/"
        },
        "id": "0fjsg8x1ge2z",
        "outputId": "4f49df04-9c90-4eef-cd9a-74a95b645cd8"
      },
      "execution_count": null,
      "outputs": [
        {
          "output_type": "stream",
          "name": "stdout",
          "text": [
            "Enter the number of x: 7\n",
            "Enter the number of y: 8\n",
            "x =  8\n",
            "y =  7\n"
          ]
        }
      ]
    },
    {
      "cell_type": "code",
      "source": [
        "#M2-7\n",
        "num = int(input(\"Enter the number: \"))\n",
        "if(num%2)==0:\n",
        "    print(\"Number is even\")\n",
        "else:\n",
        "    print(\"Number is odd\")"
      ],
      "metadata": {
        "colab": {
          "base_uri": "https://localhost:8080/"
        },
        "id": "VoFzZYLSg2va",
        "outputId": "b7a0f2bb-b24f-412b-a8ba-38a6a386ef20"
      },
      "execution_count": null,
      "outputs": [
        {
          "output_type": "stream",
          "name": "stdout",
          "text": [
            "Enter the number: 9\n",
            "Number is odd\n"
          ]
        }
      ]
    },
    {
      "cell_type": "code",
      "source": [
        "#M2-8\n",
        "ch = input(\"Enter the character: \")\n",
        "if(ch=='A' or ch=='a' or ch=='E' or ch=='e' or ch=='I' or ch=='i' or ch=='O' or ch=='o' or ch=='U' or ch=='u'):\n",
        "    print(\"It is a vowel\")\n",
        "else:\n",
        "    print(\"It is a consonant\")"
      ],
      "metadata": {
        "colab": {
          "base_uri": "https://localhost:8080/"
        },
        "id": "x-FLapCQhLpk",
        "outputId": "ff44ecad-d5aa-44fe-bb09-78bfff97518c"
      },
      "execution_count": null,
      "outputs": [
        {
          "output_type": "stream",
          "name": "stdout",
          "text": [
            "Enter the character: G\n",
            "It is a consonant\n"
          ]
        }
      ]
    },
    {
      "cell_type": "code",
      "source": [
        "#M2-9\n",
        "x = int(input(\"Enter the number: \"))\n",
        "y = int(input(\"Enter the number: \"))\n",
        "z = int(input(\"Enter the number: \"))\n",
        "sum==0\n",
        "if(x==y or y==z or z==x):\n",
        "    print(\"Sum is 0\",sum)\n",
        "else:\n",
        "    print(\"Sum is:\",x+y+z)"
      ],
      "metadata": {
        "colab": {
          "base_uri": "https://localhost:8080/"
        },
        "id": "LmDeWdSshigV",
        "outputId": "e165819f-caf4-42a8-a24e-4413e8036ec4"
      },
      "execution_count": null,
      "outputs": [
        {
          "output_type": "stream",
          "name": "stdout",
          "text": [
            "Enter the number: 6\n",
            "Enter the number: 7\n",
            "Enter the number: 8\n",
            "Sum is: 21\n"
          ]
        }
      ]
    },
    {
      "cell_type": "code",
      "source": [
        "#M2-10\n",
        "x = int(input(\"Enter the number: \"))\n",
        "y = int(input(\"Enter the number: \"))\n",
        "if(x==y or x+y==5 or x-y==5):\n",
        "    print(\"True\")\n",
        "else:\n",
        "    print(\"False\")"
      ],
      "metadata": {
        "colab": {
          "base_uri": "https://localhost:8080/"
        },
        "id": "onrZ8o7Gh8hg",
        "outputId": "8c9f0564-6aa6-477d-f771-a285c33ccd89"
      },
      "execution_count": null,
      "outputs": [
        {
          "output_type": "stream",
          "name": "stdout",
          "text": [
            "Enter the number: 1\n",
            "Enter the number: 4\n",
            "True\n"
          ]
        }
      ]
    },
    {
      "cell_type": "code",
      "source": [
        "#M2-11\n",
        "num = int(input(\"Enter the number: \"))\n",
        "sum = num*(num+1)/2\n",
        "print(\"Sum of the first n positive numbers:\",sum)"
      ],
      "metadata": {
        "colab": {
          "base_uri": "https://localhost:8080/"
        },
        "id": "GiLvAVdViLV6",
        "outputId": "23709d1e-904a-4903-8a78-220f828898c5"
      },
      "execution_count": null,
      "outputs": [
        {
          "output_type": "stream",
          "name": "stdout",
          "text": [
            "Enter the number: 8\n",
            "Sum of the first n positive numbers: 36.0\n"
          ]
        }
      ]
    },
    {
      "cell_type": "code",
      "source": [
        "#M2-12\n",
        "str = input(\"Enter the string: \")\n",
        "print(len(str))"
      ],
      "metadata": {
        "colab": {
          "base_uri": "https://localhost:8080/"
        },
        "id": "n8g23s4Jiauv",
        "outputId": "a035aa50-b191-45e1-9b61-79c812f26d72"
      },
      "execution_count": null,
      "outputs": [
        {
          "output_type": "stream",
          "name": "stdout",
          "text": [
            "Enter the string: Grishma\n",
            "7\n"
          ]
        }
      ]
    },
    {
      "cell_type": "code",
      "source": [
        "#M2-13\n",
        "str = input(\"Enter the string: \")\n",
        "for i in str:\n",
        "    frequency = str.count(i)\n",
        "print(frequency)"
      ],
      "metadata": {
        "colab": {
          "base_uri": "https://localhost:8080/"
        },
        "id": "rZtW_A_AimRE",
        "outputId": "5852ab7f-18f6-4019-81b3-7f24cd0ce213"
      },
      "execution_count": null,
      "outputs": [
        {
          "output_type": "stream",
          "name": "stdout",
          "text": [
            "Enter the string: Grishma\n",
            "1\n"
          ]
        }
      ]
    },
    {
      "cell_type": "markdown",
      "source": [
        "#M2-14\n",
        "\n",
        "What are negative indexes and why are they used?\n",
        "- Negative indexing is used to in python to being slicing from the end of the string i.e, the last slicing in python gets a sub string from a string.\n",
        "- The slicing range is set as parameters i.e, Start, Step and Stop."
      ],
      "metadata": {
        "id": "uDPwacBSjvMR"
      }
    },
    {
      "cell_type": "code",
      "source": [
        "#M2-15\n",
        "str = \"My brother name is Rutik, Rutik is an Engineer\"\n",
        "print(str.count(\"Rutik\"))"
      ],
      "metadata": {
        "colab": {
          "base_uri": "https://localhost:8080/"
        },
        "id": "KoScKB8-kmPa",
        "outputId": "21fa97e7-9e2e-4929-9ba6-c4da5c4a7b5f"
      },
      "execution_count": null,
      "outputs": [
        {
          "output_type": "stream",
          "name": "stdout",
          "text": [
            "2\n"
          ]
        }
      ]
    },
    {
      "cell_type": "code",
      "source": [
        "#M2-16\n",
        "str = \"To get a job in reputed company\"\n",
        "char = dict()\n",
        "range = str.split(\" \")\n",
        "for i in range:\n",
        "  if i in char:\n",
        "    char[i] += 1\n",
        "  else:\n",
        "    char[i] = 1\n",
        "print(char)"
      ],
      "metadata": {
        "colab": {
          "base_uri": "https://localhost:8080/"
        },
        "id": "qCy_VD1ck-ne",
        "outputId": "ef336467-51e8-4263-d23a-fefa3c234e27"
      },
      "execution_count": null,
      "outputs": [
        {
          "output_type": "stream",
          "name": "stdout",
          "text": [
            "{'To': 1, 'get': 1, 'a': 1, 'job': 1, 'in': 1, 'reputed': 1, 'company': 1}\n"
          ]
        }
      ]
    },
    {
      "cell_type": "code",
      "source": [
        "#M2-17\n",
        "str1 = input(\"Enter first string: \")\n",
        "str2 = input(\"Enter second string: \")\n",
        "x = str1[0:2]\n",
        "y = str2[0:2]\n",
        "str1 = str1.replace(str1[0:2],str2[0:2])\n",
        "str2 = str2.replace(str2[0:2],x)\n",
        "print(\"Your first string has be: \",str1)\n",
        "print(\"Your second string has be: \",str2)"
      ],
      "metadata": {
        "colab": {
          "base_uri": "https://localhost:8080/"
        },
        "id": "7BStNUOvmkjU",
        "outputId": "ae107874-0e1f-4b89-d591-033afee485c8"
      },
      "execution_count": null,
      "outputs": [
        {
          "output_type": "stream",
          "name": "stdout",
          "text": [
            "Enter first string: Grishma\n",
            "Enter second string: Rutik\n",
            "Your first string has be:  Ruishma\n",
            "Your second string has be:  Grtik\n"
          ]
        }
      ]
    },
    {
      "cell_type": "code",
      "source": [
        "#M2-18\n",
        "str = input(\"Enter the string: \")\n",
        "if(str[-3:]==\"ing\"):\n",
        "  print(str+\"ly\")\n",
        "elif(str)>=3:\n",
        "  print(str+\"ing\")\n",
        "else:\n",
        "  print(str)\n"
      ],
      "metadata": {
        "colab": {
          "base_uri": "https://localhost:8080/"
        },
        "id": "R6abk7q3oNyn",
        "outputId": "21d654b5-0344-44e2-9a56-1c9945de8c09"
      },
      "execution_count": null,
      "outputs": [
        {
          "output_type": "stream",
          "name": "stdout",
          "text": [
            "Enter the string: coding\n",
            "codingly\n"
          ]
        }
      ]
    },
    {
      "cell_type": "code",
      "source": [
        "#M2-19\n",
        "def not_poor(str1):\n",
        "  snot = str1.find(\"not\")\n",
        "  spoor = str1.find(\"poor\")\n",
        "  if spoor>snot and snot>0 and spoor>0:\n",
        "    str1 = str1.replace(str1[snot:(spoor+4)],'good')\n",
        "    return str1 \n",
        "  else:\n",
        "    return str1\n",
        "print(not_poor(\"The lyrics is not poor!!!\"))\n",
        "print(not_poor(\"The lyrics is poor!!!\"))"
      ],
      "metadata": {
        "colab": {
          "base_uri": "https://localhost:8080/"
        },
        "id": "ul-5dVeipG5T",
        "outputId": "17280029-4899-4e69-d4c5-e1ddc65dcdef"
      },
      "execution_count": null,
      "outputs": [
        {
          "output_type": "stream",
          "name": "stdout",
          "text": [
            "The lyrics is good!!!\n",
            "The lyrics is poor!!!\n"
          ]
        }
      ]
    },
    {
      "cell_type": "code",
      "source": [
        "#M2-20\n",
        "f_str = input(\"Enter the list of word separated by comma: \")\n",
        "a_list = f_str.split(\",\")\n",
        "def len_log(list1):\n",
        "  max = len(list1[0])\n",
        "  for i in list1:\n",
        "    if len(i)>max:\n",
        "      max = len(i)\n",
        "  return max\n",
        "print(len_log(a_list))"
      ],
      "metadata": {
        "colab": {
          "base_uri": "https://localhost:8080/"
        },
        "id": "K29rKcAmqggY",
        "outputId": "7f4d337a-2eb0-47d3-ff0f-7c4a35f418f7"
      },
      "execution_count": null,
      "outputs": [
        {
          "output_type": "stream",
          "name": "stdout",
          "text": [
            "Enter the list of word separated by comma: \"Grishma\"\n",
            "9\n"
          ]
        }
      ]
    },
    {
      "cell_type": "code",
      "source": [
        "#M2-21\n",
        "str = input(\"Enter the string: \")\n",
        "if len(str) % 4 == 0:\n",
        "  print(''.join(reversed(str)))\n",
        "else:\n",
        "  print(str)"
      ],
      "metadata": {
        "id": "TqxS9BnVreCK",
        "colab": {
          "base_uri": "https://localhost:8080/"
        },
        "outputId": "9cbf4eb9-0a3f-44b4-9f5d-781147171101"
      },
      "execution_count": 4,
      "outputs": [
        {
          "output_type": "stream",
          "name": "stdout",
          "text": [
            "Enter the string: hgfd\n",
            "dfgh\n"
          ]
        }
      ]
    },
    {
      "cell_type": "code",
      "source": [
        "#M2-22\n",
        "inputString = \"Python is object oriented programming language\"\n",
        "count = 0\n",
        "for i in inputString:  \n",
        "  count = count + 1\n",
        "newString = inputString[0:2] + inputString[count-2:count]\n",
        "print(\"Input string = \" + inputString)\n",
        "print(\"New string = \" + newString)"
      ],
      "metadata": {
        "colab": {
          "base_uri": "https://localhost:8080/"
        },
        "id": "8y6wEyMZlbNv",
        "outputId": "c4c4118f-e1e3-4c46-ff33-824f6015b9da"
      },
      "execution_count": 7,
      "outputs": [
        {
          "output_type": "stream",
          "name": "stdout",
          "text": [
            "Input string = Python is object oriented programming language\n",
            "New string = Pyge\n"
          ]
        }
      ]
    },
    {
      "cell_type": "code",
      "source": [
        "#M2-23\n",
        "def insert_string_middle(str, word):\n",
        "  return str[:2] + word + str[2:]\n",
        "print(insert_string_middle('[[]]','HTML'))\n",
        "print(insert_string_middle('{{}}','CSS'))\n",
        "print(insert_string_middle('<<>>','JAVASCRIPT'))"
      ],
      "metadata": {
        "colab": {
          "base_uri": "https://localhost:8080/"
        },
        "id": "nuptTpu6l-cu",
        "outputId": "ac18435c-582b-4b48-f88f-a5b92f1fd6ca"
      },
      "execution_count": 8,
      "outputs": [
        {
          "output_type": "stream",
          "name": "stdout",
          "text": [
            "[[HTML]]\n",
            "{{CSS}}\n",
            "<<JAVASCRIPT>>\n"
          ]
        }
      ]
    }
  ]
}