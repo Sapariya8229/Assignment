{
  "nbformat": 4,
  "nbformat_minor": 0,
  "metadata": {
    "colab": {
      "provenance": []
    },
    "kernelspec": {
      "name": "python3",
      "display_name": "Python 3"
    },
    "language_info": {
      "name": "python"
    }
  },
  "cells": [
    {
      "cell_type": "markdown",
      "source": [
        "#M5-1\n",
        "\n",
        "Why Django should be used for web development? Explain how you can create a project in Django?\n",
        "- Django is a high-level Python web framework that enables rapid development of secure and maintainable websites. \n",
        "- Built by experienced developers, Django takes care of much of the hassle of web development, so you can focus on writing your app without needing to reinvent the wheel.\n",
        "\n",
        " Create project\n",
        "- Open a command shell (or a terminal window), and make sure you are in your virtual environment.\n",
        "- Navigate to where you want to store your Django apps (make it somewhere easy to find like inside your Documents folder), and create a folder for your new website (in this case: django_projects). Then change into your newly-created directory.\n",
        "- Create the new project using the django-admin startproject command as shown, and then change into the project folder."
      ],
      "metadata": {
        "id": "kVwhr6Wx5ZsO"
      }
    },
    {
      "cell_type": "markdown",
      "source": [
        "#M5-2\n",
        "\n",
        "How to check installed version of django?\n",
        "- Open the project directory in your code editor.\n",
        "- Open the file “manage.py” in the project directory.\n",
        "- Look for the line “import django” at the top of the file.\n",
        "- Below this line, add the following code:\n",
        "    print(django.get_version())\n",
        "- Save the file and run the command “python manage.py” in the terminal.\n",
        "- The Django version will be displayed in the terminal output."
      ],
      "metadata": {
        "id": "aauoCC_u55rs"
      }
    },
    {
      "cell_type": "markdown",
      "source": [
        "#M5-3\n",
        "\n",
        "Explain what does django-admin.py make messages command is used for?\n",
        "- It creates (or updates) a message file in the conf/locale (in the Django tree) or locale (for project and application) directory. \n",
        "- After making changes to the messages files you need to compile them with compilemessages for use with the builtin gettext support."
      ],
      "metadata": {
        "id": "HuOwzb0h6rT5"
      }
    },
    {
      "cell_type": "markdown",
      "source": [
        "#M5-4\n",
        "\n",
        "What is Django URLs? make program to create django urls?\n",
        "- A request in Django first comes to urls.py and then goes to the matching function in views.py.\n",
        "- Python functions in views.py take the web request from urls.py and give the web response to templates. \n",
        "- It may go to the data access layer in models.py as per the queryset."
      ],
      "metadata": {
        "id": "8mxm-8tbDk8s"
      }
    },
    {
      "cell_type": "code",
      "source": [
        "from django.urls import path\n",
        "from . import views\n",
        "urlpatterns = [ \n",
        "    path('hello/', views.index)\n",
        "]"
      ],
      "metadata": {
        "id": "tkEi1U1fEOsi"
      },
      "execution_count": null,
      "outputs": []
    },
    {
      "cell_type": "markdown",
      "source": [
        "#M5-5\n",
        "\n",
        "What is QuerySet? Write a program to create a new post object in database?\n",
        "- A QuerySet is a collection of data from a database.\n",
        "- A Queryset is simply a list of objects from the Django Models.\n",
        "- When using the Django ORM creating a new row in the table is simply like creating a new object of Model class. \n",
        "- Django ORM maps these Model objects to Relational database query.\n",
        "- QuerySets makes it easier to get the data you actually need, by allowing you to filter and order the data at an early stage.\n"
      ],
      "metadata": {
        "id": "lI0l5jdMKqx_"
      }
    },
    {
      "cell_type": "code",
      "source": [
        "from datetime import date\n",
        "\n",
        "from . import models\n",
        "\n",
        "class Blog(models.Model):\n",
        "    name = models.CharField(max_length=100)\n",
        "    tagline = models.TextField()\n",
        "\n",
        "    def __str__(self):\n",
        "        return self.name\n",
        "\n",
        "class Author(models.Model):\n",
        "    name = models.CharField(max_length=200)\n",
        "    email = models.EmailField()\n",
        "\n",
        "    def __str__(self):\n",
        "        return self.name\n",
        "\n",
        "class Entry(models.Model):\n",
        "    blog = models.ForeignKey(Blog, on_delete=models.CASCADE)\n",
        "    headline = models.CharField(max_length=255)\n",
        "    body_text = models.TextField()\n",
        "    pub_date = models.DateField()\n",
        "    mod_date = models.DateField(default=date.today)\n",
        "    authors = models.ManyToManyField(Author)\n",
        "    number_of_comments = models.IntegerField(default=0)\n",
        "    number_of_pingbacks = models.IntegerField(default=0)\n",
        "    rating = models.IntegerField(default=5)\n",
        "\n",
        "    def __str__(self):\n",
        "        return self.headline"
      ],
      "metadata": {
        "id": "a1j_aNyvXhK2"
      },
      "execution_count": null,
      "outputs": []
    },
    {
      "cell_type": "markdown",
      "source": [
        "#M5-6\n",
        "\n",
        "Mention what command line can be used to load data into Django?\n",
        "- To load data into Django you have to use the command line Django-admin.py loaddata. \n",
        "- The command line will searches the data and loads the contents of the named fixtures into the database."
      ],
      "metadata": {
        "id": "Ewud9-ukMeak"
      }
    },
    {
      "cell_type": "markdown",
      "source": [
        "#M5-7\n",
        "\n",
        "Why Django should be used for web development? Explain how you can create a project in Django?\n",
        "\n",
        "- Django is a high-level Python web framework that enables rapid development of secure and maintainable websites.\n",
        "\n",
        "- Built by experienced developers, Django takes care of much of the hassle of web development, so you can focus on writing your app without needing to reinvent the wheel.\n",
        "\n",
        " Create project\n",
        "\n",
        "- Open a command shell (or a terminal window), and make sure you are in your virtual environment.\n",
        "\n",
        "- Navigate to where you want to store your Django apps (make it somewhere easy to find like inside your Documents folder), and create a folder for your new website (in this case: django_projects). Then change into your newly-created directory.\n",
        "\n",
        "- Create the new project using the django-admin startproject command as shown, and then change into the project folder."
      ],
      "metadata": {
        "id": "uZPOIS9IM0bd"
      }
    }
  ]
}