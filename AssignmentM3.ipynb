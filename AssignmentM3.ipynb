{
  "nbformat": 4,
  "nbformat_minor": 0,
  "metadata": {
    "colab": {
      "provenance": []
    },
    "kernelspec": {
      "name": "python3",
      "display_name": "Python 3"
    },
    "language_info": {
      "name": "python"
    }
  },
  "cells": [
    {
      "cell_type": "markdown",
      "source": [
        "#M3-1\n",
        "What is List? How will you reverse a list?\n",
        "\n",
        "- List are used to store multiple items in a single variable. \n",
        "- List are one of 4 built-in data type in python used to store collection of data the other 3 are tuple,set and dictionary , all with diffrent qualities and usage.\n",
        "- A built-in function called reverse()is used to reverse the list. This simple and quick way to reverse a list requires little memory.\n",
        "- Syntax :- list_name.reverse() here , list_name means you have to write the list's name , which has to be reverse."
      ],
      "metadata": {
        "id": "YO699lYmaFeX"
      }
    },
    {
      "cell_type": "markdown",
      "source": [
        "#M3-2\n",
        "How will you remove last object from a list? Suppose list1 is [2, 33, 222, 14, and 25], what is list1 [-1]?\n",
        "\n",
        "- Another efficient , yet simple approach to delete the last element of the list is by using the del statement. \n",
        "- The del operator delete the element at the specified index location from the list. \n",
        "- To delete the last element , we can use the negative index-1.\n",
        "- 1 corresponds to the last index in the list."
      ],
      "metadata": {
        "id": "gsuM1SnPaypT"
      }
    },
    {
      "cell_type": "markdown",
      "source": [
        "# M3-3\n",
        "\n",
        "Differentiate between append () and extend () methods?\n",
        "\n",
        "**APPEND METHOD**\n",
        "\n",
        "- The element passed as an argument is appended to the end of the list. An iterable passed as an argument appends without any change as a single element to the end of the list. Length of the list increases by 1.\n",
        "- Syntax :- list_name.append(element)\n",
        "\n",
        "**EXTEND METHOD**\n",
        "\n",
        "- Each element of the iterable passed as an argument gets appended to the end of the list. An iterable passed as an argument will append each of its elements to the end of the list. An iterable passed as an argument will append each of its elements to the end of the list.\n",
        "-**Syntax :-** list_name.extend(iterable)"
      ],
      "metadata": {
        "id": "bLc4VR3HbtS2"
      }
    },
    {
      "cell_type": "code",
      "source": [
        "#M3-4\n",
        "number=[]\n",
        "n=int(input(\"Enter the number of elements in list: \"))\n",
        "for i in range(1, n + 1):\n",
        "    element=int(input(\"Enter elements: \"))\n",
        "    number.append(element)\n",
        "number.sort()\n",
        "print(\"Largest element is:\",number[n-1])\n",
        "print(\"Smallest element is:\",number[0])"
      ],
      "metadata": {
        "colab": {
          "base_uri": "https://localhost:8080/"
        },
        "id": "3Yym5yQmdGH0",
        "outputId": "b73050cc-c4cf-432f-f738-335457660a09"
      },
      "execution_count": null,
      "outputs": [
        {
          "output_type": "stream",
          "name": "stdout",
          "text": [
            "Enter the number of elements in list: 5\n",
            "Enter elements: 6\n",
            "Enter elements: 7\n",
            "Enter elements: 8\n",
            "Enter elements: 9\n",
            "Enter elements: 8\n",
            "Largest element is: 9\n",
            "Smallest element is: 6\n"
          ]
        }
      ]
    },
    {
      "cell_type": "markdown",
      "source": [
        "#M3-5\n",
        "\n",
        "How will you compare two lists?\n",
        "\n",
        "- The reduce() and map() function\n",
        "- The collection.counter() function\n",
        "- Python sort() function along with == operator\n",
        "- Python set() function along with == operator\n",
        "- The difference() function"
      ],
      "metadata": {
        "id": "LJvfgCRbd0h1"
      }
    },
    {
      "cell_type": "code",
      "source": [
        "#M3-6\n",
        "def match_words(words):\n",
        "  ctr = 0\n",
        "\n",
        "  for word in words:\n",
        "    if len(word) > 1 and word[0] == word[-1]:\n",
        "      ctr += 1\n",
        "  return ctr\n",
        "\n",
        "print(match_words(['abc', 'xyz', 'aba', '1221']))"
      ],
      "metadata": {
        "colab": {
          "base_uri": "https://localhost:8080/"
        },
        "id": "YERZzL_LeV7a",
        "outputId": "9b1885ab-8c18-4434-ac38-d3dcaf865cf2"
      },
      "execution_count": null,
      "outputs": [
        {
          "output_type": "stream",
          "name": "stdout",
          "text": [
            "2\n"
          ]
        }
      ]
    },
    {
      "cell_type": "code",
      "source": [
        "#M3-7\n",
        "list_value1=[12,15,11,12,8,15,3,3]  \n",
        "print(\"The initialized list is \",list_value1)  \n",
        "res_list=[]  \n",
        "for i in list_value1:  \n",
        "    if i not in res_list:  \n",
        "        res_list.append(i)  \n",
        "print(\"The resultant list after removing duplicates is \",res_list)"
      ],
      "metadata": {
        "colab": {
          "base_uri": "https://localhost:8080/"
        },
        "id": "rsQjdrmHei3u",
        "outputId": "4bb97585-8757-48ef-db56-68d767a1a034"
      },
      "execution_count": null,
      "outputs": [
        {
          "output_type": "stream",
          "name": "stdout",
          "text": [
            "The initialized list is  [12, 15, 11, 12, 8, 15, 3, 3]\n",
            "The resultant list after removing duplicates is  [12, 15, 11, 8, 3]\n"
          ]
        }
      ]
    },
    {
      "cell_type": "code",
      "source": [
        "#M3-8\n",
        "l = []\n",
        "if not l:\n",
        "  print(\"List is empty\")"
      ],
      "metadata": {
        "colab": {
          "base_uri": "https://localhost:8080/"
        },
        "id": "Nc6iszkze4By",
        "outputId": "eaa38558-3213-4542-8b33-2a6b8404407e"
      },
      "execution_count": null,
      "outputs": [
        {
          "output_type": "stream",
          "name": "stdout",
          "text": [
            "List is empty\n"
          ]
        }
      ]
    },
    {
      "cell_type": "code",
      "source": [
        "#M3-9\n",
        "list1=[1,3,5,7]\n",
        "list2=[1,3,5,7]\n",
        "result = 0\n",
        "def find_common(list1, list2):\n",
        "     for x in list1:\n",
        "         for y in list2:\n",
        "             if x == y:\n",
        "                 result = True\n",
        "                 return result\n",
        "             else:\n",
        "               result = False\n",
        "               return result\n",
        "print(find_common(list1, list2))\n"
      ],
      "metadata": {
        "colab": {
          "base_uri": "https://localhost:8080/"
        },
        "id": "bmEq431UfFq5",
        "outputId": "3c05aeb2-5892-48d2-a418-bbb4ff7c9c09"
      },
      "execution_count": null,
      "outputs": [
        {
          "output_type": "stream",
          "name": "stdout",
          "text": [
            "True\n"
          ]
        }
      ]
    },
    {
      "cell_type": "code",
      "source": [
        "#M3-10\n",
        "def printValues():\n",
        "\tl = list()\n",
        "\tfor i in range(1,31):\n",
        "\t\tl.append(i**2)\n",
        "\tprint(l[:5])\n",
        "\tprint(l[-5:])\n",
        "printValues()"
      ],
      "metadata": {
        "colab": {
          "base_uri": "https://localhost:8080/"
        },
        "id": "iPcTE7r9f73N",
        "outputId": "f124fdb7-08cf-427a-93b9-d32fe7651342"
      },
      "execution_count": null,
      "outputs": [
        {
          "output_type": "stream",
          "name": "stdout",
          "text": [
            "[1, 4, 9, 16, 25]\n",
            "[676, 729, 784, 841, 900]\n"
          ]
        }
      ]
    },
    {
      "cell_type": "code",
      "source": [
        "#M3-11\n",
        "def unique_list(l):\n",
        "  x = []\n",
        "  for a in l:\n",
        "    if a not in x:\n",
        "      x.append(a)\n",
        "  return x\n",
        "\n",
        "print(unique_list([1,2,3,3,3,3,4,5])) "
      ],
      "metadata": {
        "colab": {
          "base_uri": "https://localhost:8080/"
        },
        "id": "jPKdIbkIgMiJ",
        "outputId": "a099fd8e-3c02-4022-a0a7-5eb0b568e278"
      },
      "execution_count": null,
      "outputs": [
        {
          "output_type": "stream",
          "name": "stdout",
          "text": [
            "[1, 2, 3, 4, 5]\n"
          ]
        }
      ]
    },
    {
      "cell_type": "code",
      "source": [
        "#M3-12\n",
        "s = ['G','R','I','S','H','M','A']\n",
        "str1 = ' '.join(s)\n",
        "print(str1)"
      ],
      "metadata": {
        "colab": {
          "base_uri": "https://localhost:8080/"
        },
        "id": "fOIFOoUdg7eH",
        "outputId": "57904c6c-49e7-4e5a-e9ae-abef1aff849c"
      },
      "execution_count": null,
      "outputs": [
        {
          "output_type": "stream",
          "name": "stdout",
          "text": [
            "G R I S H M A\n"
          ]
        }
      ]
    },
    {
      "cell_type": "code",
      "source": [
        "#M3-13\n",
        "import random\n",
        "colour_list=['Red','Blue','Green','Yellow','White','Black']\n",
        "print(random.choice(colour_list))"
      ],
      "metadata": {
        "colab": {
          "base_uri": "https://localhost:8080/"
        },
        "id": "4XhgejCzhNAp",
        "outputId": "6350300c-5bac-4197-8130-cee7de356f82"
      },
      "execution_count": null,
      "outputs": [
        {
          "output_type": "stream",
          "name": "stdout",
          "text": [
            "Yellow\n"
          ]
        }
      ]
    },
    {
      "cell_type": "code",
      "source": [
        "#M3-14\n",
        "nums = []\n",
        "print(\"Enter 10 Numbers (Elements) for List: \")\n",
        "for i in range(10):\n",
        "  nums.append(int(input()))\n",
        "\n",
        "small = nums[0]\n",
        "for i in range(10):\n",
        "  if small>nums[i]:\n",
        "    small = nums[i]\n",
        "\n",
        "secondSmall = nums[0]\n",
        "for i in range(10):\n",
        "  if secondSmall>nums[i]:\n",
        "    if nums[i]!=small:\n",
        "      secondSmall=nums[i]\n",
        "\n",
        "print(\"\\nSecond Smallest Number is: \")\n",
        "print(secondSmall)"
      ],
      "metadata": {
        "colab": {
          "base_uri": "https://localhost:8080/"
        },
        "id": "2TMD-QHAhXo2",
        "outputId": "0f4d0498-102c-45dd-81df-76ae0e4249c0"
      },
      "execution_count": null,
      "outputs": [
        {
          "output_type": "stream",
          "name": "stdout",
          "text": [
            "Enter 10 Numbers (Elements) for List: \n",
            "123\n",
            "123\n",
            "123\n",
            "123\n",
            "123\n",
            "123\n",
            "456\n",
            "765\n",
            "678\n",
            "876\n",
            "\n",
            "Second Smallest Number is: \n",
            "123\n"
          ]
        }
      ]
    },
    {
      "cell_type": "code",
      "source": [
        "#M3-15\n",
        "def unique_numbers(duplicate): \n",
        "   unique_numbers_set = set(duplicate)  \n",
        "   unique_numbers_list = list(unique_numbers_set) \n",
        "   return unique_numbers_list\n",
        "duplicate_list = [1, 2, 3, 4, 1, 2, 5, 6, 6, 6] \n",
        "print(unique_numbers(duplicate_list))"
      ],
      "metadata": {
        "colab": {
          "base_uri": "https://localhost:8080/"
        },
        "id": "CWFw0nX9iCBN",
        "outputId": "82ac85d8-b51e-4b04-f3dd-44f11b23819e"
      },
      "execution_count": null,
      "outputs": [
        {
          "output_type": "stream",
          "name": "stdout",
          "text": [
            "[1, 2, 3, 4, 5, 6]\n"
          ]
        }
      ]
    },
    {
      "cell_type": "code",
      "source": [
        "#M3-16\n",
        "test_list = [1,2,3,4,5,6,5,7]\n",
        "print(\"The original list : \" +str(test_list))\n",
        "sublist = [1, 2, 3]\n",
        "res = any(test_list[idx: idx + len(sublist)] == sublist\n",
        "\t\tfor idx in range(len(test_list) - len(sublist) + 1))\n",
        "print(\"Is sublist present in list ? : \" + str(res))"
      ],
      "metadata": {
        "colab": {
          "base_uri": "https://localhost:8080/"
        },
        "id": "pEyKd_6qiPjx",
        "outputId": "43e2f601-9738-446a-c785-6b0caf2c5f35"
      },
      "execution_count": null,
      "outputs": [
        {
          "output_type": "stream",
          "name": "stdout",
          "text": [
            "The original list : [1, 2, 3, 4, 5, 6, 5, 7]\n",
            "Is sublist present in list ? : True\n"
          ]
        }
      ]
    },
    {
      "cell_type": "code",
      "source": [
        "#M3-17\n",
        "name=[('G'),('R'),('I'),('S'),('H'),('M'),('A')]\n",
        "var1, var2, var3, var4, var5, var6, var7 = name\n",
        "print(var1)\n",
        "print(var2)\n",
        "print(var3)\n",
        "print(var4)\n",
        "print(var5)\n",
        "print(var6)\n",
        "print(var7)"
      ],
      "metadata": {
        "colab": {
          "base_uri": "https://localhost:8080/"
        },
        "id": "qQ6ekbUOiaNQ",
        "outputId": "101c0b84-a15e-4a19-f655-5ffc65b4b2b1"
      },
      "execution_count": null,
      "outputs": [
        {
          "output_type": "stream",
          "name": "stdout",
          "text": [
            "G\n",
            "R\n",
            "I\n",
            "S\n",
            "H\n",
            "M\n",
            "A\n"
          ]
        }
      ]
    },
    {
      "cell_type": "markdown",
      "source": [
        "#M3-18\n",
        "\n",
        "What is tuple? Difference between list and tuple.\n",
        "\n",
        "- Tuples are used to store multiple items in a single variable.A tuple is a collection which is ordered and unchangeable.\n",
        "- Tuple is one of 4 built-in data types in Python used to store collections of data, the other 3 are List, Set, and Dictionary, all with different qualities and usage.\n",
        "\n",
        "LIST\n",
        "- List is mutable.\n",
        "- List iteration is slower and is time consuming.\n",
        "- List is useful for insertion and deletion operations.\n",
        "- List consumes more memory.\n",
        "- List provides many in-built methods.\n",
        "\n",
        "TUPLE\n",
        "- Tuple is immutable.\n",
        "- Tuple iteration is faster.\n",
        "- Tuple is useful for readonly operations like accessing elements.\n",
        "- Tuples consumes less memory.\n",
        "- Tuples have less in-built methods."
      ],
      "metadata": {
        "id": "M3_ROsNQi60G"
      }
    },
    {
      "cell_type": "code",
      "source": [
        "#M3-19\n",
        "x = (\"Sapariya Grishma\", True,'G', 3.21, 53)\n",
        "print(x)"
      ],
      "metadata": {
        "colab": {
          "base_uri": "https://localhost:8080/"
        },
        "id": "NmZlbcijjgxS",
        "outputId": "dd6a829c-71d7-4c30-80f7-5c85022439df"
      },
      "execution_count": null,
      "outputs": [
        {
          "output_type": "stream",
          "name": "stdout",
          "text": [
            "('Sapariya Grishma', True, 'G', 3.21, 53)\n"
          ]
        }
      ]
    },
    {
      "cell_type": "code",
      "source": [
        "#M3-20\n",
        "a=1,2,3,4,5\n",
        "print(a)\n",
        "a=5\n",
        "print(a)"
      ],
      "metadata": {
        "colab": {
          "base_uri": "https://localhost:8080/"
        },
        "id": "HLNO2z7ojwPo",
        "outputId": "7e2025cf-97ee-46dd-ee81-8237c507476f"
      },
      "execution_count": null,
      "outputs": [
        {
          "output_type": "stream",
          "name": "stdout",
          "text": [
            "(1, 2, 3, 4, 5)\n",
            "5\n"
          ]
        }
      ]
    },
    {
      "cell_type": "code",
      "source": [
        "#M3-21\n",
        "tup=('G','R','I','S','H','M','A')\n",
        "str = ''.join(tup)\n",
        "print(str)"
      ],
      "metadata": {
        "colab": {
          "base_uri": "https://localhost:8080/"
        },
        "id": "F9RnY3Kmj770",
        "outputId": "e7ab16c9-4933-4d8d-a00d-3a683dc51d90"
      },
      "execution_count": null,
      "outputs": [
        {
          "output_type": "stream",
          "name": "stdout",
          "text": [
            "GRISHMA\n"
          ]
        }
      ]
    },
    {
      "cell_type": "code",
      "source": [
        "#M3-22\n",
        "tup = (\"G\", 5, \"R\", \"I\", \"S\", \"H\", \"M\",\"A\")\n",
        "print(\"G\" in tup)\n",
        "print(2 in tup)"
      ],
      "metadata": {
        "colab": {
          "base_uri": "https://localhost:8080/"
        },
        "id": "MF1YM4cPkKFB",
        "outputId": "8b3fdf0c-84cf-4527-c51c-623ade44894f"
      },
      "execution_count": null,
      "outputs": [
        {
          "output_type": "stream",
          "name": "stdout",
          "text": [
            "True\n",
            "False\n"
          ]
        }
      ]
    },
    {
      "cell_type": "code",
      "source": [
        "#M3-23\n",
        "tup1=(\"Grishma\",\"Rutik\", 5320)\n",
        "tup2=(\"Aksh\", 711, \"Shreya\", 132)\n",
        "print(\"Frist tuple length :\", len(tup1))\n",
        "print(\"Scond tuple length :\", len(tup2))"
      ],
      "metadata": {
        "colab": {
          "base_uri": "https://localhost:8080/"
        },
        "id": "XPnYaep5ka-b",
        "outputId": "5eec3034-b147-43d2-a9b5-7f5cdfdcbb6d"
      },
      "execution_count": null,
      "outputs": [
        {
          "output_type": "stream",
          "name": "stdout",
          "text": [
            "Frist tuple length : 3\n",
            "Scond tuple length : 4\n"
          ]
        }
      ]
    },
    {
      "cell_type": "code",
      "source": [
        "#M3-24\n",
        "list = [1,2,3,4,5,6]\n",
        "print(list)\n",
        "tup=tuple(list)\n",
        "print(tup)"
      ],
      "metadata": {
        "colab": {
          "base_uri": "https://localhost:8080/"
        },
        "id": "FvHCPQFak6BX",
        "outputId": "aed784f9-647a-44d7-8391-d9157bc03dd0"
      },
      "execution_count": null,
      "outputs": [
        {
          "output_type": "stream",
          "name": "stdout",
          "text": [
            "[1, 2, 3, 4, 5, 6]\n",
            "(1, 2, 3, 4, 5, 6)\n"
          ]
        }
      ]
    },
    {
      "cell_type": "code",
      "source": [
        "#M3-25\n",
        "x = (1,2,3,4,5,6,7,8,9)\n",
        "y = reversed(x)\n",
        "print(tuple(y))\n",
        "s = ('G', 'R', 'I', 'S', 'H', 'M', 'A')\n",
        "d = reversed(s)\n",
        "print(tuple(d))"
      ],
      "metadata": {
        "colab": {
          "base_uri": "https://localhost:8080/"
        },
        "id": "D8muOBOSlD76",
        "outputId": "9e2425b9-4361-4c94-95d0-e91f2fc37406"
      },
      "execution_count": null,
      "outputs": [
        {
          "output_type": "stream",
          "name": "stdout",
          "text": [
            "(9, 8, 7, 6, 5, 4, 3, 2, 1)\n",
            "('A', 'M', 'H', 'S', 'I', 'R', 'G')\n"
          ]
        }
      ]
    },
    {
      "cell_type": "code",
      "source": [
        "#M3-26\n",
        "l = [(5, 2, 3), (4, 7, 6), (8, 9, 6)]\n",
        "print([t[:-1] + (10,) for t in l])"
      ],
      "metadata": {
        "colab": {
          "base_uri": "https://localhost:8080/"
        },
        "id": "6sIIZubflZ_v",
        "outputId": "949d1ee6-a5ec-42b8-dc75-01e2726200d1"
      },
      "execution_count": null,
      "outputs": [
        {
          "output_type": "stream",
          "name": "stdout",
          "text": [
            "[(5, 2, 10), (4, 7, 10), (8, 9, 10)]\n"
          ]
        }
      ]
    },
    {
      "cell_type": "code",
      "source": [
        "#M3-27\n",
        "t = (1,2,3,4,5,6,4,7,4,8,4,4)\n",
        "print(t)\n",
        "count = t.count(4)\n",
        "print(count)"
      ],
      "metadata": {
        "colab": {
          "base_uri": "https://localhost:8080/"
        },
        "id": "bbGceAkzlrR_",
        "outputId": "3ace566d-fc99-4ed2-b396-a84f83d425d5"
      },
      "execution_count": null,
      "outputs": [
        {
          "output_type": "stream",
          "name": "stdout",
          "text": [
            "(1, 2, 3, 4, 5, 6, 4, 7, 4, 8, 4, 4)\n",
            "5\n"
          ]
        }
      ]
    },
    {
      "cell_type": "code",
      "source": [
        "#M3-28\n",
        "l = [('one'), (), ('two'), (), ('three')]\n",
        "\n",
        "l = [t for t in l if t]\n",
        "print(l)"
      ],
      "metadata": {
        "colab": {
          "base_uri": "https://localhost:8080/"
        },
        "id": "FpO_-_S5lzSp",
        "outputId": "be03e13d-7832-4651-c085-3cb2b6e1d6b9"
      },
      "execution_count": null,
      "outputs": [
        {
          "output_type": "stream",
          "name": "stdout",
          "text": [
            "['one', 'two', 'three']\n"
          ]
        }
      ]
    },
    {
      "cell_type": "code",
      "source": [
        "#M3-29\n",
        "l = [(10,30), (60,90), (20,50)]\n",
        "print(list(zip(*l)))"
      ],
      "metadata": {
        "id": "rJjvMVwLnlWv",
        "colab": {
          "base_uri": "https://localhost:8080/"
        },
        "outputId": "0c311510-692b-494c-9ae3-8276c919d8d7"
      },
      "execution_count": null,
      "outputs": [
        {
          "output_type": "stream",
          "name": "stdout",
          "text": [
            "[(10, 60, 20), (30, 90, 50)]\n"
          ]
        }
      ]
    },
    {
      "cell_type": "code",
      "source": [
        "#M3-30\n",
        "l = [(\"Name\", \"Grishma\"), (\"Name\", \"Aksh\"), (\"Name\", \"Shreya\"), (\"Age\", 22), (\"Gender\", \"Female\"), (\"Age\", 20), (\"Gender\", \"Male\"), (\"Gender\", \"Female\") , (\"Age\", 23)]\n",
        "dic = {}\n",
        "for x, y in l:\n",
        "    dic.setdefault(x, []).append(y)\n",
        "print (dic)"
      ],
      "metadata": {
        "colab": {
          "base_uri": "https://localhost:8080/"
        },
        "id": "nywcfINYnm7k",
        "outputId": "d5cd7fbc-8c21-40a4-fc89-214475a41e10"
      },
      "execution_count": null,
      "outputs": [
        {
          "output_type": "stream",
          "name": "stdout",
          "text": [
            "{'Name': ['Grishma', 'Aksh', 'Shreya'], 'Age': [22, 20, 23], 'Gender': ['Female', 'Male', 'Female']}\n"
          ]
        }
      ]
    },
    {
      "cell_type": "markdown",
      "source": [
        "#M3-31 \n",
        "How will you create a dictionary using tuples in python?\n",
        "- In Python, use the dict() function to convert a tuple to a dictionary.\n",
        "-  A dictionary object can be created with the dict() function. \n",
        "- The dictionary is returned by the dict() method, which takes a tuple of tuples as an argument. "
      ],
      "metadata": {
        "id": "RUA2BPrJoEZX"
      }
    },
    {
      "cell_type": "code",
      "source": [
        "#M3-32\n",
        "import operator\n",
        "a = {1: 2, 3: 4, 4: 3, 2: 1, 0: 0}\n",
        "print('Original dictionary : ',d)\n",
        "sa = sorted(a.items(), key=operator.itemgetter(1))\n",
        "print('Ascending order : ',sa)\n",
        "sd = dict( sorted(a.items(), key=operator.itemgetter(1),reverse=True))\n",
        "print('Descending order : ',sd)"
      ],
      "metadata": {
        "colab": {
          "base_uri": "https://localhost:8080/"
        },
        "id": "N2eXKMpkoRu-",
        "outputId": "fb907302-fc24-49a0-cc23-26e73544d5e7"
      },
      "execution_count": null,
      "outputs": [
        {
          "output_type": "stream",
          "name": "stdout",
          "text": [
            "Original dictionary :  {1: 1, 2: 4, 3: 9, 4: 16, 5: 25, 6: 36, 7: 49, 8: 64}\n",
            "Ascending order :  [(0, 0), (2, 1), (1, 2), (4, 3), (3, 4)]\n",
            "Descending order :  {3: 4, 4: 3, 1: 2, 2: 1, 0: 0}\n"
          ]
        }
      ]
    },
    {
      "cell_type": "code",
      "source": [
        "#M3-33\n",
        "s1={\"Name\":\"Grishma\" , \"Age\":23}\n",
        "s2={\"City\": \"Rajkot\", \"Gender\": \"Female\"}\n",
        "s3={\"Mark\":450}\n",
        "s4 = {}\n",
        "for d in (s1, s2, s3): s4.update(d)\n",
        "print(s4)"
      ],
      "metadata": {
        "colab": {
          "base_uri": "https://localhost:8080/"
        },
        "id": "HIDexhQfo9nE",
        "outputId": "d2cb235d-35df-4060-c300-41e523b96658"
      },
      "execution_count": null,
      "outputs": [
        {
          "output_type": "stream",
          "name": "stdout",
          "text": [
            "{'Name': 'Grishma', 'Age': 23, 'City': 'Rajkot', 'Gender': 'Female', 'Mark': 450}\n"
          ]
        }
      ]
    },
    {
      "cell_type": "code",
      "source": [
        "#M3-34\n",
        "d={'A':1,'B':2,'C':3}\n",
        "key=input(\"Enter key to check: \")\n",
        "if key in d.keys():\n",
        "      print(\"Key is present and value of the key is:\")\n",
        "      print(d[key])\n",
        "else:\n",
        "      print(\"Key isn't present!\")"
      ],
      "metadata": {
        "colab": {
          "base_uri": "https://localhost:8080/"
        },
        "id": "U04flk4ppJup",
        "outputId": "7f65d9de-6525-4f28-e481-82e801fd4046"
      },
      "execution_count": null,
      "outputs": [
        {
          "output_type": "stream",
          "name": "stdout",
          "text": [
            "Enter key to check: G\n",
            "Key isn't present!\n"
          ]
        }
      ]
    },
    {
      "cell_type": "markdown",
      "source": [
        "#M3-35\n",
        "\n",
        "How Do You Traverse Through A Dictionary Object In Python?**\n",
        "\n",
        "- Iterating Through Keys Directly.\n",
        "- Iterating Through .items()\n",
        "- Iterating Through .keys()\n",
        "- Iterating Through .values()\n"
      ],
      "metadata": {
        "id": "YOGJ3fG7ppZU"
      }
    },
    {
      "cell_type": "markdown",
      "source": [
        "#M3-36\n",
        "\n",
        "How Do You Check The Presence Of A Key In A Dictionary? \n",
        "\n",
        "- Using the Inbuilt method keys() method returns a list of all the available keys in the dictionary. \n",
        "- With the Inbuilt method keys(), use if statement with 'in' operator to check if the key is present in the dictionary or not."
      ],
      "metadata": {
        "id": "vj7iuZklpyp_"
      }
    },
    {
      "cell_type": "code",
      "source": [
        "#M3-37\n",
        "l=int(input(\"Enter the Limit : \"))\n",
        "d = dict()\n",
        "for x in range(1,l+1):\n",
        "    d[x]=x**2\n",
        "print(d)"
      ],
      "metadata": {
        "colab": {
          "base_uri": "https://localhost:8080/"
        },
        "id": "t8j6v14CqTE3",
        "outputId": "6a6562b1-df82-4e67-facf-0a74dbf731b6"
      },
      "execution_count": null,
      "outputs": [
        {
          "output_type": "stream",
          "name": "stdout",
          "text": [
            "Enter the Limit : 8\n",
            "{1: 1, 2: 4, 3: 9, 4: 16, 5: 25, 6: 36, 7: 49, 8: 64}\n"
          ]
        }
      ]
    },
    {
      "cell_type": "code",
      "source": [
        "#M3-38\n",
        "student = {\n",
        "  'name': 'Grishma',\n",
        "  'age': 23,\n",
        "  'city': 'Vadodara'\n",
        "}\n",
        "print(student.keys() >= {'age', 'name'})\n",
        "print(student.keys() >= {'City', 'Ram'})\n",
        "print(student.keys() >= {'city', 'age'})"
      ],
      "metadata": {
        "colab": {
          "base_uri": "https://localhost:8080/"
        },
        "id": "D5uqP4dDqzqo",
        "outputId": "b8a2d399-49aa-4b3d-d1f7-6bd292f8cb61"
      },
      "execution_count": null,
      "outputs": [
        {
          "output_type": "stream",
          "name": "stdout",
          "text": [
            "True\n",
            "False\n",
            "True\n"
          ]
        }
      ]
    },
    {
      "cell_type": "code",
      "source": [
        "#M3-39\n",
        "a1 = {'s': 500, 't': 100}\n",
        "a2 = {'x': 300, 'y': 400}\n",
        "b = a1.copy()\n",
        "b.update(a2)\n",
        "print(b)"
      ],
      "metadata": {
        "colab": {
          "base_uri": "https://localhost:8080/"
        },
        "id": "Ms6yrBeQrCtt",
        "outputId": "039a2c59-27dc-40f2-bac5-8ffd9d95325b"
      },
      "execution_count": null,
      "outputs": [
        {
          "output_type": "stream",
          "name": "stdout",
          "text": [
            "{'s': 500, 't': 100, 'x': 300, 'y': 400}\n"
          ]
        }
      ]
    },
    {
      "cell_type": "code",
      "source": [
        "#M3-40\n",
        "keys = ['name', 'age', 'job']\n",
        "values = ['Grishma', 23, 'Web Developer']\n",
        "\n",
        "mydict = {k: v for k, v in zip(keys, values)}\n",
        "print(\"Dictionary Items  :  \",  mydict)"
      ],
      "metadata": {
        "colab": {
          "base_uri": "https://localhost:8080/"
        },
        "id": "JbDgEigarOhU",
        "outputId": "ccbddd4e-9c0c-4418-abb2-6728fc689301"
      },
      "execution_count": null,
      "outputs": [
        {
          "output_type": "stream",
          "name": "stdout",
          "text": [
            "Dictionary Items  :   {'name': 'Grishma', 'age': 23, 'job': 'Web Developer'}\n"
          ]
        }
      ]
    },
    {
      "cell_type": "code",
      "source": [
        "#M3-41\n",
        "from collections import Counter  \n",
        "dict1 = {'a': 100, 'b': 200, 'c':300}  \n",
        "dict2 = {'a': 300, 'b': 200, 'd':400}  \n",
        "new_dict = Counter(dict1) + Counter(dict2)  \n",
        "print(\"The new  dict is:\", new_dict)"
      ],
      "metadata": {
        "colab": {
          "base_uri": "https://localhost:8080/"
        },
        "id": "aMfgbXYisUyI",
        "outputId": "ad0c0910-e2de-4f6f-cd77-991c86029d45"
      },
      "execution_count": null,
      "outputs": [
        {
          "output_type": "stream",
          "name": "stdout",
          "text": [
            "The new  dict is: Counter({'a': 400, 'b': 400, 'd': 400, 'c': 300})\n"
          ]
        }
      ]
    },
    {
      "cell_type": "code",
      "source": [
        "#M3-42\n",
        "dict1 = {'A' : [1, 3, 5, 4],'B' : [4, 6, 8, 10],'C' : [6, 12, 4 ,8],'D' : [5, 7, 2]}\n",
        "print(\"The original dictionary is : \" ,dict1)\n",
        "res = list(sorted({ele for val in dict1.values() for ele in val}))\n",
        "print(\"The unique values list is : \" , res) "
      ],
      "metadata": {
        "id": "IAlILCCnspbO",
        "colab": {
          "base_uri": "https://localhost:8080/"
        },
        "outputId": "bf3afbfa-d270-4806-eaf2-1772fee6b259"
      },
      "execution_count": null,
      "outputs": [
        {
          "output_type": "stream",
          "name": "stdout",
          "text": [
            "The original dictionary is :  {'A': [1, 3, 5, 4], 'B': [4, 6, 8, 10], 'C': [6, 12, 4, 8], 'D': [5, 7, 2]}\n",
            "The unique values list is :  [1, 2, 3, 4, 5, 6, 7, 8, 10, 12]\n"
          ]
        }
      ]
    },
    {
      "cell_type": "markdown",
      "source": [
        "#M3-43\n",
        "\n",
        "Why Do You Use the Zip () Method in Python?\n",
        "\n",
        " - Python’s zip() function is defined as zip(*iterables). The function takes in iterables as arguments and returns an iterator. This iterator generates a series of tuples containing elements from each iterable. zip() can accept any type of iterable, such as files, lists, tuples, dictionaries, sets, and so on. \n",
        " - Python’s zip() function creates an iterator that will aggregate elements from two or more iterables. You can use the resulting iterator to quickly and consistently solve common programming problems, like creating dictionaries."
      ],
      "metadata": {
        "id": "Vry-waprswam"
      }
    },
    {
      "cell_type": "code",
      "source": [
        "#M3-44\n",
        "import itertools      \n",
        "x ={'1':['a','b'], '2':['c','d']}\n",
        "for combo in itertools.product(*[x[k] for k in sorted(x.keys())]):\n",
        "    print(''.join(combo))"
      ],
      "metadata": {
        "colab": {
          "base_uri": "https://localhost:8080/"
        },
        "id": "SQFaVnT_tHjk",
        "outputId": "ee23c813-2871-4537-b0db-68b554ef29ca"
      },
      "execution_count": null,
      "outputs": [
        {
          "output_type": "stream",
          "name": "stdout",
          "text": [
            "ac\n",
            "ad\n",
            "bc\n",
            "bd\n"
          ]
        }
      ]
    },
    {
      "cell_type": "code",
      "source": [
        "#M3-45\n",
        "from collections import Counter\n",
        "my_dict = {'a':500, 'b':5874, 'c': 560,'d':400, 'e':5874, 'f': 20}  \n",
        "c = Counter(my_dict)\n",
        "most_common = c.most_common(3)\n",
        "my_keys = [key for key, val in most_common]\n",
        "print(my_keys)\n"
      ],
      "metadata": {
        "colab": {
          "base_uri": "https://localhost:8080/"
        },
        "id": "n0Z9R-Stts9W",
        "outputId": "0aae090f-d0dd-438e-dbce-91f2ffd2db38"
      },
      "execution_count": null,
      "outputs": [
        {
          "output_type": "stream",
          "name": "stdout",
          "text": [
            "['b', 'e', 'c']\n"
          ]
        }
      ]
    },
    {
      "cell_type": "code",
      "source": [
        "#M3-46\n",
        "from collections import Counter\n",
        "item_list = [{'item': 'item1', 'amount': 400}, {'item': 'item2', 'amount': 300}, {'item': 'item1', 'amount': 750}]\n",
        "result = Counter()\n",
        "for d in item_list:\n",
        "    result[d['item']] += d['amount']\n",
        "print(result) \n"
      ],
      "metadata": {
        "colab": {
          "base_uri": "https://localhost:8080/"
        },
        "id": "XDBrOIoftzv6",
        "outputId": "0eb33d5a-5b77-49b3-d2ed-71a29812ea8b"
      },
      "execution_count": null,
      "outputs": [
        {
          "output_type": "stream",
          "name": "stdout",
          "text": [
            "Counter({'item1': 1150, 'item2': 300})\n"
          ]
        }
      ]
    },
    {
      "cell_type": "code",
      "source": [
        "#M3-47\n",
        "from collections import defaultdict, Counter\n",
        "str1 = 'w3resource' \n",
        "my_dict = {}\n",
        "for letter in str1:\n",
        "    my_dict[letter] = my_dict.get(letter, 0) + 1\n",
        "print(my_dict)\n"
      ],
      "metadata": {
        "colab": {
          "base_uri": "https://localhost:8080/"
        },
        "id": "VAS1GtL3t9jN",
        "outputId": "6958e634-422c-4d72-9805-17293507673d"
      },
      "execution_count": null,
      "outputs": [
        {
          "output_type": "stream",
          "name": "stdout",
          "text": [
            "{'w': 1, '3': 1, 'r': 2, 'e': 2, 's': 1, 'o': 1, 'u': 1, 'c': 1}\n"
          ]
        }
      ]
    },
    {
      "cell_type": "code",
      "source": [
        "#M3-48\n",
        "num = int(input(\"Enter a number: \"))    \n",
        "factorial = 1    \n",
        "if num < 0:    \n",
        "   print(\" Factorial does not exist for negative numbers\")    \n",
        "elif num == 0:    \n",
        "   print(\"The factorial of 0 is 1\")    \n",
        "else:    \n",
        "   for i in range(1,num + 1):    \n",
        "       factorial = factorial*i    \n",
        "   print(\"The factorial of\",num,\"is\", factorial)"
      ],
      "metadata": {
        "colab": {
          "base_uri": "https://localhost:8080/"
        },
        "id": "PX9qWO5auXPt",
        "outputId": "e666a3a5-9908-441b-994e-c2b70895cec8"
      },
      "execution_count": null,
      "outputs": [
        {
          "output_type": "stream",
          "name": "stdout",
          "text": [
            "Enter a number: 8\n",
            "The factorial of 8 is 40320\n"
          ]
        }
      ]
    },
    {
      "cell_type": "code",
      "source": [
        "#M3-49\n",
        "def test_range(n):\n",
        "    if n in range(10,20):\n",
        "        print( \"The number %s is in the range\" % str(n))\n",
        "    else :\n",
        "        print(\"The number is outside the given range.\")\n",
        "test_range(15)"
      ],
      "metadata": {
        "id": "p8508B1ZvKRM",
        "colab": {
          "base_uri": "https://localhost:8080/"
        },
        "outputId": "c4106a2d-4bdb-402b-d008-26a06fee20ac"
      },
      "execution_count": null,
      "outputs": [
        {
          "output_type": "stream",
          "name": "stdout",
          "text": [
            "The number 15 is in the range\n"
          ]
        }
      ]
    },
    {
      "cell_type": "code",
      "source": [
        "#M3-50\n",
        "num=int(input(\"Enter the number: \"))  \n",
        "sum_v=0  \n",
        "for i in range(1,num):  \n",
        "    if (num%i==0):  \n",
        "        sum_v=sum_v+i  \n",
        "if(sum_v==num):  \n",
        "    print(\"The entered number is a perfect number\")  \n",
        "else:  \n",
        "    print(\"The entered number is not a perfect number\") "
      ],
      "metadata": {
        "colab": {
          "base_uri": "https://localhost:8080/"
        },
        "id": "7gieoWiavY-y",
        "outputId": "6c52ebb8-0e6b-43f2-804a-0c14f40a0641"
      },
      "execution_count": null,
      "outputs": [
        {
          "output_type": "stream",
          "name": "stdout",
          "text": [
            "Enter the number: 8\n",
            "The entered number is not a perfect number\n"
          ]
        }
      ]
    },
    {
      "cell_type": "code",
      "source": [
        "#M3-51\n",
        "def isPalindrome(string):\n",
        "\tleft_pos = 0\n",
        "\tright_pos = len(string) - 1\n",
        "\t\n",
        "\twhile right_pos >= left_pos:\n",
        "\t\tif not string[left_pos] == string[right_pos]:\n",
        "\t\t\treturn False\n",
        "\t\tleft_pos += 1\n",
        "\t\tright_pos -= 1\n",
        "\treturn True\n",
        "print(isPalindrome('madam')) \n"
      ],
      "metadata": {
        "colab": {
          "base_uri": "https://localhost:8080/"
        },
        "id": "dQd8hYzWvmBp",
        "outputId": "223fb11a-77ea-408f-a3b9-b7ce656fefa6"
      },
      "execution_count": null,
      "outputs": [
        {
          "output_type": "stream",
          "name": "stdout",
          "text": [
            "True\n"
          ]
        }
      ]
    },
    {
      "cell_type": "markdown",
      "source": [
        "#M3-52\n",
        "\n",
        "How Many Basic Types Of Functions Are Available In Python?\n",
        "\n",
        "- There are three types of functions in Python.\n",
        "- Python Built-in Functions.\n",
        "- Python Recursion Functions.\n",
        "- Python Lambda Functions.\n",
        "- Python User-defined Function"
      ],
      "metadata": {
        "id": "FxFinGj0woXw"
      }
    },
    {
      "cell_type": "markdown",
      "source": [
        "#M3-53\n",
        "\n",
        "How can you pick a random item from a list or tuple?\n",
        "\n",
        "- Generate a random item from the tuple using random. choice() method by passing the input tuple as an argument to the choice() function. \n",
        "- Print the generated random tuple item."
      ],
      "metadata": {
        "id": "dhyJRoA2xf-k"
      }
    },
    {
      "cell_type": "markdown",
      "source": [
        "#M3-54\n",
        "\n",
        "How can you pick a random item from a range?\n",
        "- Generate random integers using random. randrange() method. Python provides a function named randrange() in the random package that can produce random numbers from a given range while still enabling spaces for steps to be included. The below example uses randrange() to randomly print integers. \n"
      ],
      "metadata": {
        "id": "h50Ao5VrYxHA"
      }
    },
    {
      "cell_type": "markdown",
      "source": [
        "#M3-55\n",
        "\n",
        "How can you get a random number in python?\n",
        "- To generate random number in Python, randint() function is used. This function is defined in random module. "
      ],
      "metadata": {
        "id": "01vVETcXZQWu"
      }
    },
    {
      "cell_type": "markdown",
      "source": [
        "#M3-56\n",
        "\n",
        "How will you set the starting value in generating random numbers?\n",
        "- The seed() method is used to initialize the random number generator. The random number generator needs a number to start with (a seed value), to be able to generate a random number. \n",
        "- By default the random number generator uses the current system time.\n"
      ],
      "metadata": {
        "id": "MJQWx_j-Zezw"
      }
    },
    {
      "cell_type": "markdown",
      "source": [
        "#M3-57\n",
        "\n",
        "How will you randomizes the items of a list in place? \n",
        "- The shuffle() method randomizes the items of a list in place.\n"
      ],
      "metadata": {
        "id": "4Oy0qE5KZumn"
      }
    },
    {
      "cell_type": "code",
      "source": [
        "#M3-58\n",
        "import random\n",
        "lines = open('file.txt').read().splitlines()\n",
        "myline =random.choice(lines)\n",
        "print(myline)"
      ],
      "metadata": {
        "id": "4XFVPNnvaMxR"
      },
      "execution_count": null,
      "outputs": []
    },
    {
      "cell_type": "code",
      "source": [
        "#M3-59\n",
        "pi = 22/7\n",
        "degrees = 5\n",
        "\n",
        "radians = degrees * pi / 180\n",
        "print(radians)"
      ],
      "metadata": {
        "colab": {
          "base_uri": "https://localhost:8080/"
        },
        "id": "pRtSTDeXaUdb",
        "outputId": "5e3ced03-fdc4-49fb-8434-21dee09ea6d3"
      },
      "execution_count": null,
      "outputs": [
        {
          "output_type": "stream",
          "name": "stdout",
          "text": [
            "0.0873015873015873\n"
          ]
        }
      ]
    },
    {
      "cell_type": "code",
      "source": [
        "#M3-60\n",
        "b1 = 5\n",
        "b2 = 6\n",
        "hgt = float(input(\"Enter Height of Trapezoid: \"))\n",
        "b1 = float(input(\"Enter the Base 1 Value :\"))\n",
        "b2 = float(input(\"Enter the Base 2 Value :\"))\n",
        "area = ((b1 + b2) / 2) * hgt\n",
        "print(\"Area : \", area)"
      ],
      "metadata": {
        "colab": {
          "base_uri": "https://localhost:8080/"
        },
        "id": "asgxmbIxafpR",
        "outputId": "14158972-7517-4820-d5a4-50804c4acd36"
      },
      "execution_count": null,
      "outputs": [
        {
          "output_type": "stream",
          "name": "stdout",
          "text": [
            "Enter Height of Trapezoid: 8\n",
            "Enter the Base 1 Value :7\n",
            "Enter the Base 2 Value :5\n",
            "Area :  48.0\n"
          ]
        }
      ]
    },
    {
      "cell_type": "code",
      "source": [
        "#M3-61\n",
        "base = float(input(\"Enter The Length of Base : \"))\n",
        "height = float(input(\"Enter Measurement of height : \"))\n",
        "area = base * height\n",
        "print(\"Area : \", area)"
      ],
      "metadata": {
        "colab": {
          "base_uri": "https://localhost:8080/"
        },
        "id": "ssIZeGChaqOE",
        "outputId": "9eaf4d75-9e44-48bf-e3cd-243c98edefe9"
      },
      "execution_count": null,
      "outputs": [
        {
          "output_type": "stream",
          "name": "stdout",
          "text": [
            "Enter The Length of Base : 5\n",
            "Enter Measurement of height : 6\n",
            "Area :  30.0\n"
          ]
        }
      ]
    },
    {
      "cell_type": "code",
      "source": [
        "#M3-62\n",
        "pi=3.14\n",
        "height = float(input(\"Enter The Height of Cylinder: \"))\n",
        "radian = float(input(\"Enter The Radius of Cylinder: \"))\n",
        "volume = pi * radian * radian * height\n",
        "sur_area = ((2*pi*radian) * height) + ((pi*radian**2)*2)\n",
        "print(\"Volume : \", volume)\n",
        "print(\"Surface Area : \", sur_area)"
      ],
      "metadata": {
        "colab": {
          "base_uri": "https://localhost:8080/"
        },
        "id": "8C4JbV3na2Bc",
        "outputId": "986bdc52-1a33-4fe1-a080-5136c1e67206"
      },
      "execution_count": null,
      "outputs": [
        {
          "output_type": "stream",
          "name": "stdout",
          "text": [
            "Enter The Height of Cylinder: 3\n",
            "Enter The Radius of Cylinder: 6\n",
            "Volume :  339.12\n",
            "Surface Area :  339.12\n"
          ]
        }
      ]
    },
    {
      "cell_type": "code",
      "source": [
        "#M3-63\n",
        "num = int(input(\"Enter the Number :\"))\n",
        "div = [1]\n",
        "for i in range(2, num):\n",
        "\tif (num % i)==0:\n",
        "\t\tdiv.append(i)\n",
        "print(\"Sum of all divisors :\",sum(div))"
      ],
      "metadata": {
        "colab": {
          "base_uri": "https://localhost:8080/"
        },
        "id": "aqhlfG9rbB0z",
        "outputId": "6368d536-958c-45d4-c62e-99840859dd2b"
      },
      "execution_count": null,
      "outputs": [
        {
          "output_type": "stream",
          "name": "stdout",
          "text": [
            "Enter the Number :7\n",
            "Sum of all divisors : 1\n"
          ]
        }
      ]
    },
    {
      "cell_type": "code",
      "source": [
        "#M3-64\n",
        "print(\"Enter the Multiple Decimal Points Comma Separate...\")\n",
        "dec = input(\"\").split(\",\")\n",
        "print(\"Maximum: \", max(dec))\n",
        "print(\"Minimum: \", min(dec))"
      ],
      "metadata": {
        "colab": {
          "base_uri": "https://localhost:8080/"
        },
        "id": "g-hMxxDwbp9D",
        "outputId": "6591a83e-f350-4165-f9e7-e0f1227fb046"
      },
      "execution_count": null,
      "outputs": [
        {
          "output_type": "stream",
          "name": "stdout",
          "text": [
            "Enter the Multiple Decimal Points Comma Separate...\n",
            "76,89,65,34,54\n",
            "Maximum:  89\n",
            "Minimum:  34\n"
          ]
        }
      ]
    }
  ]
}