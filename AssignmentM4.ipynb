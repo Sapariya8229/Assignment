{
  "nbformat": 4,
  "nbformat_minor": 0,
  "metadata": {
    "colab": {
      "provenance": []
    },
    "kernelspec": {
      "name": "python3",
      "display_name": "Python 3"
    },
    "language_info": {
      "name": "python"
    }
  },
  "cells": [
    {
      "cell_type": "markdown",
      "source": [
        "#M4-1\n",
        "\n",
        "What is File fuction in python? What is keywords to create and write file?\n",
        " - A file object allows us to use, access and manipulate all the user accessible files. One can read and write any such files. When a file operation fails for an I/O-related reason, the exception IOError is raised.\n",
        "  \n",
        "    - Create() : use the open() function with one of the following options – \"x\" or \"w\" – to create a new file: \"x\" – Create: this command will create a new file if and only if there is no file already in existence with that name or else it will return an error.\n",
        "    - write() : This function writes a fixed sequence of characters to a file. writelines() : This function writes a list of string\n",
        " \n"
      ],
      "metadata": {
        "id": "xUU86Xe87WDl"
      }
    },
    {
      "cell_type": "code",
      "source": [
        "#M4-2\n",
        "a=str(input(\"Enter the name of the file: \"))\n",
        "file1 = open(a,'r')\n",
        "line = file1.readline()\n",
        "while(line!=\"\"):\n",
        "    print(line)\n",
        "    line = file1.readline()\n",
        "file1.close()"
      ],
      "metadata": {
        "colab": {
          "base_uri": "https://localhost:8080/"
        },
        "id": "uPSg848h75M_",
        "outputId": "5d0ad1bd-8fe1-4d0c-b4d4-9ae0949abc4c"
      },
      "execution_count": 16,
      "outputs": [
        {
          "output_type": "stream",
          "name": "stdout",
          "text": [
            "Enter the name of the file: abc.txt\n",
            "\n",
            "\n",
            "Hello, I m Grishma\n"
          ]
        }
      ]
    },
    {
      "cell_type": "code",
      "source": [
        "#M4-3\n",
        "fname = input(\"Enter file name: \")\n",
        "file3=open(fname,\"a\")\n",
        "c=input(\"Enter string to append: \\n\");\n",
        "file3.write(\"\\n\")\n",
        "file3.write(c)\n",
        "file3.close()\n",
        "print(\"Contents of appended file:\");\n",
        "file4=open(fname,'r')\n",
        "line1=file4.readline()\n",
        "while(line1!=\"\"):\n",
        "    print(line1)\n",
        "    line1=file4.readline()    \n",
        "file4.close()"
      ],
      "metadata": {
        "colab": {
          "base_uri": "https://localhost:8080/"
        },
        "id": "FyuPBeJb8yZY",
        "outputId": "6dc4b4cc-9378-4491-df53-8bf2bc99be77"
      },
      "execution_count": 15,
      "outputs": [
        {
          "output_type": "stream",
          "name": "stdout",
          "text": [
            "Enter file name: abc.txt\n",
            "Enter string to append: \n",
            "Hello, I m Grishma\n",
            "Contents of appended file:\n",
            "\n",
            "\n",
            "Hello, I m Grishma\n"
          ]
        }
      ]
    },
    {
      "cell_type": "code",
      "source": [
        "#M4-4\n",
        "def file_read_from_head(fname, nlines):\n",
        "        from itertools import islice\n",
        "        with open(fname) as f:\n",
        "                for line in islice(f, nlines):\n",
        "                        print(line)\n",
        "file_read_from_head('abc.txt',2)\n"
      ],
      "metadata": {
        "colab": {
          "base_uri": "https://localhost:8080/"
        },
        "id": "XLtmJorY9bxT",
        "outputId": "619a1811-2a98-45a2-db62-87e43af668ca"
      },
      "execution_count": null,
      "outputs": [
        {
          "output_type": "stream",
          "name": "stdout",
          "text": [
            "\n",
            "\n",
            "Hello, I m Grishma\n"
          ]
        }
      ]
    },
    {
      "cell_type": "code",
      "source": [
        "#M4-5\n",
        "def LastNlines(fname, N):\n",
        "    with open(fname) as file:\n",
        "        for line in (file.readlines() [-N:]):\n",
        "            print(line, end ='')\n",
        "if __name__ == '__main__':\n",
        "    fname = 'File1.txt'\n",
        "    N = 3\n",
        "    try:\n",
        "        LastNlines(fname, N)\n",
        "    except:\n",
        "        print('File not found')"
      ],
      "metadata": {
        "colab": {
          "base_uri": "https://localhost:8080/"
        },
        "id": "8UGqXQCj95Vu",
        "outputId": "5dfe899c-2500-4ad2-d1f1-055da19a4924"
      },
      "execution_count": 3,
      "outputs": [
        {
          "output_type": "stream",
          "name": "stdout",
          "text": [
            "File not found\n"
          ]
        }
      ]
    },
    {
      "cell_type": "code",
      "source": [
        "#M4-6\n",
        "def file_read(fname):\n",
        "        with open(fname) as f:\n",
        "                #Content_list is the list that contains the read lines.     \n",
        "                content_list = f.readlines()\n",
        "                print(content_list)\n",
        "\n",
        "file_read('abc.txt')\n"
      ],
      "metadata": {
        "colab": {
          "base_uri": "https://localhost:8080/"
        },
        "id": "vGWwAXGa-v2o",
        "outputId": "a706f365-9db6-4b53-de7f-1003eb888f1c"
      },
      "execution_count": 17,
      "outputs": [
        {
          "output_type": "stream",
          "name": "stdout",
          "text": [
            "['\\n', 'Hello, I m Grishma']\n"
          ]
        }
      ]
    },
    {
      "cell_type": "code",
      "source": [
        "#M4-7\n",
        "def file_read(fname):\n",
        "        with open (fname, \"r\") as myfile:\n",
        "                data=myfile.readlines()\n",
        "                print(data)\n",
        "file_read('abc.txt')"
      ],
      "metadata": {
        "colab": {
          "base_uri": "https://localhost:8080/"
        },
        "id": "0mErUKsB_CGp",
        "outputId": "1f174d6c-a418-4378-8ae2-80de061178d2"
      },
      "execution_count": 18,
      "outputs": [
        {
          "output_type": "stream",
          "name": "stdout",
          "text": [
            "['\\n', 'Hello, I m Grishma']\n"
          ]
        }
      ]
    },
    {
      "cell_type": "code",
      "source": [
        "#M4-8\n",
        "sentence = input(\"Enter sentence: \")\n",
        "longest = max(sentence.split(), key=len)\n",
        "print(\"Longest word is: \", longest)\n",
        "print(\"And its length is: \", len(longest))\n"
      ],
      "metadata": {
        "colab": {
          "base_uri": "https://localhost:8080/"
        },
        "id": "9nykD8_l_Udo",
        "outputId": "f42473f6-4814-4388-db13-7ead322dcceb"
      },
      "execution_count": null,
      "outputs": [
        {
          "output_type": "stream",
          "name": "stdout",
          "text": [
            "Enter sentence: I m web developer\n",
            "Longest word is:  developer\n",
            "And its length is:  9\n"
          ]
        }
      ]
    },
    {
      "cell_type": "code",
      "source": [
        "#M4-9\n",
        "fname = input(\"Enter file name: \")\n",
        "num_lines = 0\n",
        "with open(fname, 'r') as f:\n",
        "    for line in f:\n",
        "        num_lines += 1\n",
        "print(\"Number of lines:\")\n",
        "print(num_lines)"
      ],
      "metadata": {
        "colab": {
          "base_uri": "https://localhost:8080/"
        },
        "id": "aPO6Kz4L_m15",
        "outputId": "b8f7fc38-e7e9-4b3b-82a2-e705d7b894d5"
      },
      "execution_count": 19,
      "outputs": [
        {
          "output_type": "stream",
          "name": "stdout",
          "text": [
            "Enter file name: abc.txt\n",
            "Number of lines:\n",
            "2\n"
          ]
        }
      ]
    },
    {
      "cell_type": "code",
      "source": [
        "#M4-10\n",
        "fname = input('Enter the file name: ')\n",
        "try:\n",
        "    fhand = open(fname)\n",
        "    counts = dict()\n",
        "    for line in fhand:\n",
        "        words = line.split()\n",
        "        for word in words:\n",
        "            if word in counts:\n",
        "                counts[word] += 1\n",
        "            else:\n",
        "                counts[word] = 1\n",
        "    print(counts)\n",
        "except:\n",
        "    print('File cannot be opened:', fname)"
      ],
      "metadata": {
        "colab": {
          "base_uri": "https://localhost:8080/"
        },
        "id": "DVaxf9Jm_8Av",
        "outputId": "a8aae9de-437d-42fc-ac81-6de3c0a01139"
      },
      "execution_count": 20,
      "outputs": [
        {
          "output_type": "stream",
          "name": "stdout",
          "text": [
            "Enter the file name: abc.txt\n",
            "{'Hello,': 1, 'I': 1, 'm': 1, 'Grishma': 1}\n"
          ]
        }
      ]
    },
    {
      "cell_type": "code",
      "source": [
        "#M4-11\n",
        "color = ['Red', 'Green', 'White', 'Black', 'Pink', 'Yellow']\n",
        "with open('module.txt', \"w\") as myfile:\n",
        "        for c in color:\n",
        "                myfile.write(\"%s\\n\" % c)\n",
        "\n",
        "content = open('abc.txt')\n",
        "print(content.read())"
      ],
      "metadata": {
        "colab": {
          "base_uri": "https://localhost:8080/"
        },
        "id": "ZNNu2BWQAIYN",
        "outputId": "e69c1039-c7e4-44f3-9ece-444e7a231b78"
      },
      "execution_count": 21,
      "outputs": [
        {
          "output_type": "stream",
          "name": "stdout",
          "text": [
            "\n",
            "Hello, I m Grishma\n"
          ]
        }
      ]
    },
    {
      "cell_type": "code",
      "source": [
        "#M4-12\n",
        "import shutil\n",
        "shutil.copyfile('first.txt','second.txt')"
      ],
      "metadata": {
        "id": "9ZK9uL85uZxC"
      },
      "execution_count": null,
      "outputs": []
    },
    {
      "cell_type": "markdown",
      "source": [
        "#M4-13\n",
        "\n",
        "Explain Exception handling? What is an Error in Python?\n",
        " - Exception handling allows you to separate error-handling code from normal code. An exception is a Python object which represents an error. As with code comments, exceptions helps you to remind yourself of what the program expects. It clarifies the code and enhances readability.\n",
        " - There are mainly two types of errors in python programming namely - Syntax errors and Logical Errors or Exceptions. Whenever we do not write the proper syntax of the python programming language (or any other language) then the python interpreter throws an error known as syntax error \n"
      ],
      "metadata": {
        "id": "Fx_iSzAlunW4"
      }
    },
    {
      "cell_type": "markdown",
      "source": [
        "#M4-14\n",
        "\n",
        "How many except statements can a try-except block have? Name Some built-in exception classes:\n",
        " - There has to be at least one except statement.\n",
        " "
      ],
      "metadata": {
        "id": "ywmUkdxLuyr3"
      }
    },
    {
      "cell_type": "markdown",
      "source": [
        "#M4-15\n",
        "\n",
        "When will the else part of try-except-else be executed?\n",
        " - The else part is executed when no exception occurs. \n"
      ],
      "metadata": {
        "id": "eFcw8ndLvMyt"
      }
    },
    {
      "cell_type": "markdown",
      "source": [
        "#M4-16\n",
        "\n",
        "Can one block of except statements handle multiple exception?\n",
        " -  try-except blocks can be used to catch and respond to one or multiple exceptions. \n",
        " - In cases where a process raises more than one possible exception, they can all be handled using a single except clause."
      ],
      "metadata": {
        "id": "kkbvRzNpvfDY"
      }
    },
    {
      "cell_type": "markdown",
      "source": [
        "#M4-17\n",
        "\n",
        "When is the finally block executed?\n",
        " - The finally block will be executed no matter if the try block raises an error or not. \n",
        " - This can be useful to close objects and clean up resources.\n"
      ],
      "metadata": {
        "id": "0L7Z4H2IvwPl"
      }
    },
    {
      "cell_type": "markdown",
      "source": [
        "#M4-18\n",
        "\n",
        "What happens when „1‟== 1 is executed?\n",
        "\n",
        "- Explanation: it simply evaluates to false and does not raise any exception."
      ],
      "metadata": {
        "id": "cdQjk-_Av7sH"
      }
    },
    {
      "cell_type": "markdown",
      "source": [
        "#M4-19\n",
        "\n",
        "How Do You Handle Exceptions With Try/Except/Finally In Python? Explain with coding snippets.\n",
        "\n",
        "- To handle the exception, we have put the code, result = numerator/denominator inside the try block. Now when an exception occurs, the rest of the code inside the try block is skipped. The except block catches the exception and statements inside the except block are executed.\n",
        "- Try and except statements are used to catch and handle exceptions in Python. Statements that can raise exceptions are kept inside the try clause and the statements that handle the exception are written inside except clause.\n",
        "- A code Snippet is a programming term that refers to a small portion of re-usable source code, machine code, or text. Snippets help programmers reduce the time it takes to type in repetitive information while coding. Code Snippets are a feature on most text editors, code editors, and IDEs.\n",
        "[ ]\n"
      ],
      "metadata": {
        "id": "I3mIj1IZwIz4"
      }
    },
    {
      "cell_type": "code",
      "source": [
        "#M4-20\n",
        "num = int(input(\"Enter a number: \"))\n",
        "mod = num % 2\n",
        "if mod > 0:\n",
        "    print(\"This is an odd number.\")\n",
        "else:\n",
        "    print(\"This is an even number.\")"
      ],
      "metadata": {
        "colab": {
          "base_uri": "https://localhost:8080/"
        },
        "id": "eP08WwBmwWRD",
        "outputId": "60936035-87c7-442c-e964-8911e4e27f51"
      },
      "execution_count": 6,
      "outputs": [
        {
          "output_type": "stream",
          "name": "stdout",
          "text": [
            "Enter a number: 78\n",
            "This is an even number.\n"
          ]
        }
      ]
    },
    {
      "cell_type": "markdown",
      "source": [
        "#M4-21\n",
        "\n",
        "What are oops concepts? Is multiple inheritance supported in java\n",
        "\n",
        "- Inheritance is one of the core concepts of Object-Oriented Programming. Multiple Inheritance is the process in which a subclass inherits more than one superclass. Java does not support Multiple Inheritance; however, Java interfaces help us achieve Multiple Inheritance of type in Java.\n",
        "- Multiple inheritance in java is the capability of creating a single class with multiple superclasses. Unlike some other popular object oriented programming languages like C++, java doesn't provide support for multiple inheritance in classes."
      ],
      "metadata": {
        "id": "rJPbpWaBww_j"
      }
    },
    {
      "cell_type": "markdown",
      "source": [
        "#M4-22\n",
        "\n",
        "How to Define a Class in Python? What Is Self? Give An Example Of A Python Class?\n",
        "- A class in Python can be defined using the class keyword. As per the syntax above, a class is defined using the class keyword followed by the class name and : operator after the class name, which allows you to continue in the next indented line to define class members.\n",
        "\n",
        "- The self keyword is used to represent an instance (object) of the given class.\n",
        "\n",
        "- Example:- suppose Bike is a class then we can create objects like bike1 , bike2 , etc from the class. Here's the syntax to create an object. Here, bike1 is the object of the class."
      ],
      "metadata": {
        "id": "7gU_XSGuxBRv"
      }
    },
    {
      "cell_type": "markdown",
      "source": [
        "#M4-23\n",
        "\n",
        "Write a Python class named Rectangle constructed by a length and width and a method which will compute the area of a rectangle?\n",
        "\n",
        "- In Euclidean plane geometry, a rectangle is a quadrilateral with four right angles.\n",
        "- To find the area of a rectangle, multiply the length by the width. A rectangle with four sides of equal length is a square."
      ],
      "metadata": {
        "id": "UdnCw0wKyV8s"
      }
    },
    {
      "cell_type": "code",
      "source": [
        "class Rectangle():\n",
        "    def __init__(self, l, w):\n",
        "        self.length = l\n",
        "        self.width  = w\n",
        "\n",
        "    def rectangle_area(self):\n",
        "        return self.length*self.width\n",
        "\n",
        "newRectangle = Rectangle(10, 15)\n",
        "print(newRectangle.rectangle_area())"
      ],
      "metadata": {
        "colab": {
          "base_uri": "https://localhost:8080/"
        },
        "id": "o-5Czy40yq7v",
        "outputId": "1128ffa0-85b9-4cea-a6a6-2ab631fa91ec"
      },
      "execution_count": 11,
      "outputs": [
        {
          "output_type": "stream",
          "name": "stdout",
          "text": [
            "150\n"
          ]
        }
      ]
    },
    {
      "cell_type": "code",
      "source": [
        "#M4-24,25\n",
        "class Circle():\n",
        "    def __init__(self, r):\n",
        "        self.radius = r\n",
        "\n",
        "    def area(self):\n",
        "        return self.radius**2*3.14\n",
        "    \n",
        "    def perimeter(self):\n",
        "        return 2*self.radius*3.14\n",
        "\n",
        "NewCircle = Circle(9)\n",
        "print(NewCircle.area())\n",
        "print(NewCircle.perimeter())\n"
      ],
      "metadata": {
        "colab": {
          "base_uri": "https://localhost:8080/"
        },
        "id": "GgFs5YPdy0Rt",
        "outputId": "7012c485-8f7a-4814-c7f0-2715dfa60229"
      },
      "execution_count": 10,
      "outputs": [
        {
          "output_type": "stream",
          "name": "stdout",
          "text": [
            "254.34\n",
            "56.52\n"
          ]
        }
      ]
    },
    {
      "cell_type": "markdown",
      "source": [
        "#M4-26\n",
        "\n",
        "Explain Inheritance in Python with an example?What is init? Or What Is A Constructor In Python?\n",
        "\n",
        "- Inheritance relationship defines the classes that inherit from other classes as derived, subclass, or sub-type classes. Base class remains to be the source from which a subclass inherits. For example, you have a Base class of “Animal,” and a “Lion” is a Derived class. The inheritance will be Lion is an Animal.\n",
        "- The init method is the Python equivalent of the C++ constructor in an object-oriented approach. The init function is called every time an object is created from a class. The init method lets the class initialize the object's attributes and serves no other purpose. It is only used within classes.\n",
        "- Constructors are generally used for instantiating an object. The task of constructors is to initialize(assign values) to the data members of the class when an object of class is created.In Python the init() method is called the constructor and is always called when an object is created."
      ],
      "metadata": {
        "id": "8cScvkCdzHfV"
      }
    },
    {
      "cell_type": "markdown",
      "source": [
        "#M4-27\n",
        "\n",
        "What is Instantiation in terms of OOP terminology?\n",
        "\n",
        "- Instantiation − The creation of an instance of a class. \n",
        "   - Method − A special kind of function that is defined in a class definition.   \n",
        "   - Object − A unique instance of a data structure that's defined by its class. An object comprises both data members (class variables and instance variables) and methods."
      ],
      "metadata": {
        "id": "Ot1KYYmfzTVE"
      }
    },
    {
      "cell_type": "markdown",
      "source": [
        "#M4-28\n",
        "\n",
        "What is used to check whether an object o is an instance of class A?\n",
        "\n",
        "- The isinstance() function returns True if the specified object is of the specified type, otherwise False . If the type parameter is a tuple, this function will return True if the object is one of the types in the tuple."
      ],
      "metadata": {
        "id": "OI1yslLXz2W4"
      }
    },
    {
      "cell_type": "markdown",
      "source": [
        "#M4-29\n",
        "\n",
        "What relationship is appropriate for Course and Faculty?\n",
        " - \"Composition(Has-A Relation)\" relationship between course and faculty class. \n"
      ],
      "metadata": {
        "id": "DBaAxzyb0CMZ"
      }
    },
    {
      "cell_type": "markdown",
      "source": [
        "#M4-30\n",
        "\n",
        "What relationship is appropriate for Student and Person?\n",
        "\n",
        "- So, simply we can say that it establishes an “is-a” or “kind of” relationship between Student and Person class."
      ],
      "metadata": {
        "id": "x-aVAe340M0l"
      }
    },
    {
      "cell_type": "code",
      "source": [
        "class Person:\n",
        "    def __init__(self, fname, lname, address):\n",
        "        self.fname = fname\n",
        "        self.lname = lname\n",
        "        self.address = address\n",
        "        \n",
        "    def display(self):\n",
        "        print(\"First Name: \", self.fname)\n",
        "        print(\"Last Name: \", self.lname)\n",
        "        print(\"Address: \", self.address)\n",
        "        \n",
        "class Student(Person):\n",
        "    def __init__(self, fname, lname, address, age, gradYear):\n",
        "        super().__init__(fname, lname, address)\n",
        "        self.age = age\n",
        "        self.gradYear = gradYear\n",
        "        \n",
        "    def display(self):\n",
        "        super().display()\n",
        "        print(\"Age: \", self.age)\n",
        "        print(\"Graduation Year: \", self.gradYear)\n",
        "\n",
        "# person object\n",
        "per = Person(\"Grishma\", \"Sapariya\", \"Karjan\") \n",
        "per.display()\n",
        "print(\"===========================================\")\n",
        "std = Student(\"Rutik\", \"Sapariya\", \"Karjan\", 21, 2001)\n",
        "std.display()"
      ],
      "metadata": {
        "colab": {
          "base_uri": "https://localhost:8080/"
        },
        "id": "1NaFOFxn0ZOK",
        "outputId": "2ad600ae-aab2-4403-8210-361cc540155e"
      },
      "execution_count": 13,
      "outputs": [
        {
          "output_type": "stream",
          "name": "stdout",
          "text": [
            "First Name:  Grishma\n",
            "Last Name:  Sapariya\n",
            "Address:  Karjan\n",
            "===========================================\n",
            "First Name:  Rutik\n",
            "Last Name:  Sapariya\n",
            "Address:  Karjan\n",
            "Age:  21\n",
            "Graduation Year:  2001\n"
          ]
        }
      ]
    }
  ]
}