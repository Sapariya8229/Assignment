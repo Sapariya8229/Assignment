{
  "nbformat": 4,
  "nbformat_minor": 0,
  "metadata": {
    "colab": {
      "provenance": []
    },
    "kernelspec": {
      "name": "python3",
      "display_name": "Python 3"
    },
    "language_info": {
      "name": "python"
    }
  },
  "cells": [
    {
      "cell_type": "markdown",
      "source": [
        "#M1-1\n",
        "What is Software?\n",
        "- Software is a set of instructions, data or programs used to operate computers and execute specific tasks.\n",
        "- It is the opposite of hardware, which describes the physical aspects of a computer.\n",
        "- Software is a generic term used to refer to applications, scripts and programs that run on a device."
      ],
      "metadata": {
        "id": "3zODPZTw9jGl"
      }
    },
    {
      "cell_type": "markdown",
      "source": [
        "#M1-2\n",
        "What are the types of Applications?\n",
        "- An application, also referred to as an application program or application software, is a computer software package that performs a specific function directly for an end user or, in same cases, for another application.\n",
        "- An application can be self-contained or a group of programs."
      ],
      "metadata": {
        "id": "Oedq1MFq_3ea"
      }
    },
    {
      "cell_type": "markdown",
      "source": [
        "#M1-3\n",
        "What is Programming?\n",
        "- Programming is the process of creating a set of instructions that tell a computer how to perfrom a task.\n",
        "- Programming can be done using a variety of computer programming language, such as Javascript, Python and C++.\n",
        "\n",
        "\n",
        "\n",
        "\n",
        "\n",
        "\n",
        "\n"
      ],
      "metadata": {
        "id": "fb8gz7Wmxs2T"
      }
    },
    {
      "cell_type": "markdown",
      "source": [
        "#M1-4\n",
        "What is Python?\n",
        "- Python is a computer programming language often used to build websites and software, automate tasks, and conduct data analysis.\n",
        "- Python is a general-purpose language, meaning it can be used to create a variety of different programs and isn't specialized for any specific problems."
      ],
      "metadata": {
        "id": "IkD_M7enyh0t"
      }
    }
  ]
}